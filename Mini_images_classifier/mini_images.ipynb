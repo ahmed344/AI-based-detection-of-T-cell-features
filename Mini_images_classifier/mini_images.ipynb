{
 "cells": [
  {
   "cell_type": "code",
   "execution_count": 1,
   "id": "norwegian-overall",
   "metadata": {},
   "outputs": [],
   "source": [
    "# Libraries\n",
    "import numpy as np\n",
    "import matplotlib.pyplot as plt\n",
    "import pandas as pd\n",
    "from skimage import io\n",
    "from scipy import ndimage\n",
    "from scipy.optimize import minimize\n",
    "\n",
    "# Utilities\n",
    "from fitting import Fit_Gaussian\n",
    "from pattern import Lattice, Squares, Binary_Squares\n",
    "from binary import Binary_Images"
   ]
  },
  {
   "cell_type": "code",
   "execution_count": 2,
   "id": "covered-architecture",
   "metadata": {},
   "outputs": [],
   "source": [
    "img = \"actin1-1.tif\"\n",
    "mask = \"Mask.tif\"\n",
    "pattern = \"pattern1_25im-1.tif\"\n",
    "date = \"data/data_400_20190208\"\n",
    "cell = \"cell_1_1\"\n",
    "l = 12\n",
    "l_min = 1.5\n",
    "l_max = 2.5\n",
    "img_scale = 10"
   ]
  },
  {
   "cell_type": "code",
   "execution_count": 3,
   "id": "american-eclipse",
   "metadata": {},
   "outputs": [
    {
     "name": "stdout",
     "output_type": "stream",
     "text": [
      "Warning: failed to fit a general Gaussian on the pitch histogram\n",
      "Warning: failed to fit a general Gaussian on the angle histogram\n",
      "Warning: failed to fit a general Gaussian on the pitch histogram\n",
      "Warning: failed to fit a general Gaussian on the angle histogram\n",
      "The number of mini images = 42\n"
     ]
    }
   ],
   "source": [
    "# Read the image to be cut and the mask you will cut on\n",
    "image = io.imread('{}/{}/{}'.format(date, cell, img))\n",
    "Pattern = io.imread('{}/{}/{}'.format(date, cell, pattern))\n",
    "mask = io.imread('{}/{}/{}'.format(date, cell, mask))\n",
    "        \n",
    "# Create the two stacks of binary images to check the pattern\n",
    "mini_images = Binary_Squares(img = Pattern,\n",
    "                             coordinate = '{}/{}/coordinates.csv'.format(date, cell),\n",
    "                             l = l,\n",
    "                             img_scale = img_scale,\n",
    "                             l_min = l_min,\n",
    "                             l_max = l_max)\n",
    "        \n",
    "pattern_dots, pattern_shifted_dots = mini_images.masked_squares(mask)\n",
    "        \n",
    "        \n",
    "# Create the two stacks of binary images\n",
    "mini_images = Binary_Squares(img = image,\n",
    "                             coordinate = '{}/{}/coordinates.csv'.format(date, cell),\n",
    "                             l = l,\n",
    "                             img_scale = img_scale,\n",
    "                             l_min = l_min,\n",
    "                             l_max = l_max)\n",
    "        \n",
    "dots, shifted_dots = mini_images.masked_squares(mask)\n",
    "        \n",
    "print('The number of mini images = {}'.format(2*dots.shape[0]))"
   ]
  },
  {
   "cell_type": "code",
   "execution_count": 4,
   "id": "infrared-builder",
   "metadata": {},
   "outputs": [
    {
     "data": {
      "text/plain": [
       "Text(0.5, 1.0, 'off dot')"
      ]
     },
     "execution_count": 4,
     "metadata": {},
     "output_type": "execute_result"
    },
    {
     "data": {
      "image/png": "[encoded data removed]",
      "text/plain": [
       "<Figure size 864x432 with 2 Axes>"
      ]
     },
     "metadata": {
      "needs_background": "light"
     },
     "output_type": "display_data"
    }
   ],
   "source": [
    "# display the average of the pattern to verify the quality of the localization\n",
    "plt.figure(figsize=(12,6))\n",
    "        \n",
    "plt.subplot(121)\n",
    "plt.imshow(np.mean(pattern_dots, axis= 0), cmap ='gray')\n",
    "plt.axis('off')\n",
    "plt.title('on dot')\n",
    "    \n",
    "plt.subplot(122)\n",
    "plt.imshow(np.mean(pattern_shifted_dots, axis= 0), cmap ='gray')\n",
    "plt.axis('off')\n",
    "plt.title('off dot')"
   ]
  },
  {
   "cell_type": "code",
   "execution_count": 5,
   "id": "referenced-agency",
   "metadata": {},
   "outputs": [
    {
     "data": {
      "text/plain": [
       "Text(0.5, 1.0, 'off dot')"
      ]
     },
     "execution_count": 5,
     "metadata": {},
     "output_type": "execute_result"
    },
    {
     "data": {
      "image/png": "[encoded data removed]",
      "text/plain": [
       "<Figure size 864x432 with 2 Axes>"
      ]
     },
     "metadata": {
      "needs_background": "light"
     },
     "output_type": "display_data"
    }
   ],
   "source": [
    "# display the average of the pattern to verify the quality of the localization\n",
    "plt.figure(figsize=(12,6))\n",
    "        \n",
    "plt.subplot(121)\n",
    "plt.imshow(np.mean(dots, axis= 0), cmap ='gray')\n",
    "plt.axis('off')\n",
    "plt.title('on dot')\n",
    "    \n",
    "plt.subplot(122)\n",
    "plt.imshow(np.mean(shifted_dots, axis= 0), cmap ='gray')\n",
    "plt.axis('off')\n",
    "plt.title('off dot')"
   ]
  },
  {
   "cell_type": "code",
   "execution_count": 6,
   "id": "temporal-finder",
   "metadata": {},
   "outputs": [
    {
     "data": {
      "text/plain": [
       "124"
      ]
     },
     "execution_count": 6,
     "metadata": {},
     "output_type": "execute_result"
    }
   ],
   "source": [
    "dots.min()"
   ]
  },
  {
   "cell_type": "code",
   "execution_count": 7,
   "id": "correct-swedish",
   "metadata": {},
   "outputs": [
    {
     "name": "stderr",
     "output_type": "stream",
     "text": [
      "/home/ahmed/Repositories/AI-based-detection-of-T-cell-features/Mini_images_classifier/binary.py:45: VisibleDeprecationWarning: Creating an ndarray from ragged nested sequences (which is a list-or-tuple of lists-or-tuples-or ndarrays with different lengths or shapes) is deprecated. If you meant to do this, you must specify 'dtype=object' when creating the ndarray\n",
      "  return np.array(X), np.array(y)\n"
     ]
    },
    {
     "ename": "ValueError",
     "evalue": "The truth value of an array with more than one element is ambiguous. Use a.any() or a.all()",
     "output_type": "error",
     "traceback": [
      "\u001b[0;31m---------------------------------------------------------------------------\u001b[0m",
      "\u001b[0;31mValueError\u001b[0m                                Traceback (most recent call last)",
      "\u001b[0;32m<ipython-input-7-222e4b4cdbcb>\u001b[0m in \u001b[0;36m<module>\u001b[0;34m\u001b[0m\n\u001b[1;32m      1\u001b[0m \u001b[0mbinary_pattern\u001b[0m \u001b[0;34m=\u001b[0m \u001b[0mBinary_Images\u001b[0m\u001b[0;34m(\u001b[0m\u001b[0mpattern_dots\u001b[0m\u001b[0;34m,\u001b[0m \u001b[0mpattern_shifted_dots\u001b[0m\u001b[0;34m)\u001b[0m\u001b[0;34m\u001b[0m\u001b[0;34m\u001b[0m\u001b[0m\n\u001b[0;32m----> 2\u001b[0;31m \u001b[0mX_train\u001b[0m\u001b[0;34m,\u001b[0m \u001b[0mX_test\u001b[0m\u001b[0;34m,\u001b[0m \u001b[0my_train\u001b[0m\u001b[0;34m,\u001b[0m \u001b[0my_test\u001b[0m \u001b[0;34m=\u001b[0m \u001b[0mbinary_pattern\u001b[0m\u001b[0;34m.\u001b[0m\u001b[0mtrain_test_seed\u001b[0m\u001b[0;34m(\u001b[0m\u001b[0mseed\u001b[0m \u001b[0;34m=\u001b[0m \u001b[0;36m0\u001b[0m\u001b[0;34m,\u001b[0m \u001b[0mnorm\u001b[0m \u001b[0;34m=\u001b[0m \u001b[0;34m'mean'\u001b[0m\u001b[0;34m)\u001b[0m\u001b[0;34m\u001b[0m\u001b[0;34m\u001b[0m\u001b[0m\n\u001b[0m",
      "\u001b[0;32m~/Repositories/AI-based-detection-of-T-cell-features/Mini_images_classifier/binary.py\u001b[0m in \u001b[0;36mtrain_test_seed\u001b[0;34m(self, seed, ratio, norm, augmentation)\u001b[0m\n\u001b[1;32m     76\u001b[0m \u001b[0;34m\u001b[0m\u001b[0m\n\u001b[1;32m     77\u001b[0m         \u001b[0;31m#Subtract the base\u001b[0m\u001b[0;34m\u001b[0m\u001b[0;34m\u001b[0m\u001b[0;34m\u001b[0m\u001b[0m\n\u001b[0;32m---> 78\u001b[0;31m         \u001b[0mX\u001b[0m \u001b[0;34m=\u001b[0m \u001b[0mX\u001b[0m \u001b[0;34m-\u001b[0m \u001b[0mX\u001b[0m\u001b[0;34m.\u001b[0m\u001b[0mmin\u001b[0m\u001b[0;34m(\u001b[0m\u001b[0;34m)\u001b[0m\u001b[0;34m\u001b[0m\u001b[0;34m\u001b[0m\u001b[0m\n\u001b[0m\u001b[1;32m     79\u001b[0m \u001b[0;34m\u001b[0m\u001b[0m\n\u001b[1;32m     80\u001b[0m         \u001b[0;31m#Normalization\u001b[0m\u001b[0;34m\u001b[0m\u001b[0;34m\u001b[0m\u001b[0;34m\u001b[0m\u001b[0m\n",
      "\u001b[0;32m~/anaconda3/envs/tf-gpu/lib/python3.8/site-packages/numpy/core/_methods.py\u001b[0m in \u001b[0;36m_amin\u001b[0;34m(a, axis, out, keepdims, initial, where)\u001b[0m\n\u001b[1;32m     41\u001b[0m def _amin(a, axis=None, out=None, keepdims=False,\n\u001b[1;32m     42\u001b[0m           initial=_NoValue, where=True):\n\u001b[0;32m---> 43\u001b[0;31m     \u001b[0;32mreturn\u001b[0m \u001b[0mumr_minimum\u001b[0m\u001b[0;34m(\u001b[0m\u001b[0ma\u001b[0m\u001b[0;34m,\u001b[0m \u001b[0maxis\u001b[0m\u001b[0;34m,\u001b[0m \u001b[0;32mNone\u001b[0m\u001b[0;34m,\u001b[0m \u001b[0mout\u001b[0m\u001b[0;34m,\u001b[0m \u001b[0mkeepdims\u001b[0m\u001b[0;34m,\u001b[0m \u001b[0minitial\u001b[0m\u001b[0;34m,\u001b[0m \u001b[0mwhere\u001b[0m\u001b[0;34m)\u001b[0m\u001b[0;34m\u001b[0m\u001b[0;34m\u001b[0m\u001b[0m\n\u001b[0m\u001b[1;32m     44\u001b[0m \u001b[0;34m\u001b[0m\u001b[0m\n\u001b[1;32m     45\u001b[0m def _sum(a, axis=None, dtype=None, out=None, keepdims=False,\n",
      "\u001b[0;31mValueError\u001b[0m: The truth value of an array with more than one element is ambiguous. Use a.any() or a.all()"
     ]
    }
   ],
   "source": [
    "binary_pattern = Binary_Images(pattern_dots, pattern_shifted_dots)\n",
    "X_train, X_test, y_train, y_test = binary_pattern.train_test_seed(seed = 0, norm = 'mean')"
   ]
  },
  {
   "cell_type": "code",
   "execution_count": null,
   "id": "green-guyana",
   "metadata": {},
   "outputs": [],
   "source": []
  }
 ],
 "metadata": {
  "kernelspec": {
   "display_name": "Python 3",
   "language": "python",
   "name": "python3"
  },
  "language_info": {
   "codemirror_mode": {
    "name": "ipython",
    "version": 3
   },
   "file_extension": ".py",
   "mimetype": "text/x-python",
   "name": "python",
   "nbconvert_exporter": "python",
   "pygments_lexer": "ipython3",
   "version": "3.8.6"
  }
 },
 "nbformat": 4,
 "nbformat_minor": 5
}
