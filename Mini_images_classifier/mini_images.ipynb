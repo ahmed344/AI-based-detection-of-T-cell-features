{
 "cells": [
  {
   "cell_type": "code",
   "execution_count": 4,
   "id": "norwegian-overall",
   "metadata": {},
   "outputs": [],
   "source": [
    "# Libraries\n",
    "import numpy as np\n",
    "import matplotlib as plt\n",
    "import pandas as pd\n",
    "from skimage import io\n",
    "from scipy import ndimage\n",
    "from scipy.optimize import minimize\n",
    "\n",
    "# Utilities\n",
    "from fitting import Fit_Gaussian\n",
    "from pattern import Lattice, Squares, Binary_Squares"
   ]
  },
  {
   "cell_type": "code",
   "execution_count": 2,
   "id": "covered-architecture",
   "metadata": {},
   "outputs": [],
   "source": [
    "img = \"actin1-1.tif\"\n",
    "mask = \"Mask.tif\"\n",
    "pattern = \"pattern1_25im-1.tif\"\n",
    "date = \"data/data_400_20190208\"\n",
    "cell = \"cell_1_1\"\n",
    "img_scale = 10"
   ]
  },
  {
   "cell_type": "code",
   "execution_count": 5,
   "id": "american-eclipse",
   "metadata": {},
   "outputs": [
    {
     "ename": "NameError",
     "evalue": "name 'l' is not defined",
     "output_type": "error",
     "traceback": [
      "\u001b[0;31m---------------------------------------------------------------------------\u001b[0m",
      "\u001b[0;31mNameError\u001b[0m                                 Traceback (most recent call last)",
      "\u001b[0;32m<ipython-input-5-086e2d46ce21>\u001b[0m in \u001b[0;36m<module>\u001b[0;34m\u001b[0m\n\u001b[1;32m      7\u001b[0m mini_images = Binary_Squares(img = Pattern,\n\u001b[1;32m      8\u001b[0m                              \u001b[0mcoordinate\u001b[0m \u001b[0;34m=\u001b[0m \u001b[0;34m'{}/{}/coordinates.csv'\u001b[0m\u001b[0;34m.\u001b[0m\u001b[0mformat\u001b[0m\u001b[0;34m(\u001b[0m\u001b[0mdate\u001b[0m\u001b[0;34m,\u001b[0m \u001b[0mcell\u001b[0m\u001b[0;34m)\u001b[0m\u001b[0;34m,\u001b[0m\u001b[0;34m\u001b[0m\u001b[0;34m\u001b[0m\u001b[0m\n\u001b[0;32m----> 9\u001b[0;31m                              \u001b[0ml\u001b[0m \u001b[0;34m=\u001b[0m \u001b[0ml\u001b[0m\u001b[0;34m,\u001b[0m\u001b[0;34m\u001b[0m\u001b[0;34m\u001b[0m\u001b[0m\n\u001b[0m\u001b[1;32m     10\u001b[0m                              \u001b[0mimg_scale\u001b[0m \u001b[0;34m=\u001b[0m \u001b[0mimg_scale\u001b[0m\u001b[0;34m,\u001b[0m\u001b[0;34m\u001b[0m\u001b[0;34m\u001b[0m\u001b[0m\n\u001b[1;32m     11\u001b[0m                              \u001b[0ml_min\u001b[0m \u001b[0;34m=\u001b[0m \u001b[0ml_min\u001b[0m\u001b[0;34m,\u001b[0m\u001b[0;34m\u001b[0m\u001b[0;34m\u001b[0m\u001b[0m\n",
      "\u001b[0;31mNameError\u001b[0m: name 'l' is not defined"
     ]
    }
   ],
   "source": [
    "# Read the image to be cut and the mask you will cut on\n",
    "image = io.imread('{}/{}/{}'.format(date, cell, img))\n",
    "Pattern = io.imread('{}/{}/{}'.format(date, cell, pattern))\n",
    "mask = io.imread('{}/{}/{}'.format(date, cell, mask))\n",
    "        \n",
    "# Create the two stacks of binary images to check the pattern\n",
    "mini_images = Binary_Squares(img = Pattern,\n",
    "                             coordinate = '{}/{}/coordinates.csv'.format(date, cell),\n",
    "                             l = l,\n",
    "                             img_scale = img_scale,\n",
    "                             l_min = l_min,\n",
    "                             l_max = l_max)\n",
    "        \n",
    "pattern_dots, pattern_shifted_dots = mini_images.masked_squares(mask, ratio = ratio, remove = remove, center_ratio = center_ratio)\n",
    "        \n",
    "        \n",
    "# Create the two stacks of binary images\n",
    "mini_images = Binary_Squares(img = image,\n",
    "                             coordinate = '{}/{}/coordinates.csv'.format(date, cell),\n",
    "                             l = l,\n",
    "                             img_scale = img_scale,\n",
    "                             l_min = l_min,\n",
    "                             l_max = l_max)\n",
    "        \n",
    "dots, shifted_dots = mini_images.masked_squares(mask, ratio = ratio, remove = remove, center_ratio = center_ratio)\n",
    "        \n",
    "print('The number of mini images = {}'.format(2*dots.shape[0]))"
   ]
  },
  {
   "cell_type": "code",
   "execution_count": null,
   "id": "infrared-builder",
   "metadata": {},
   "outputs": [],
   "source": []
  }
 ],
 "metadata": {
  "kernelspec": {
   "display_name": "Python 3",
   "language": "python",
   "name": "python3"
  },
  "language_info": {
   "codemirror_mode": {
    "name": "ipython",
    "version": 3
   },
   "file_extension": ".py",
   "mimetype": "text/x-python",
   "name": "python",
   "nbconvert_exporter": "python",
   "pygments_lexer": "ipython3",
   "version": "3.8.6"
  }
 },
 "nbformat": 4,
 "nbformat_minor": 5
}
