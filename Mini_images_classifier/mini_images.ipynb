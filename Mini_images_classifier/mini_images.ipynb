{
 "cells": [
  {
   "cell_type": "code",
   "execution_count": 1,
   "id": "norwegian-overall",
   "metadata": {},
   "outputs": [],
   "source": [
    "# Libraries\n",
    "import numpy as np\n",
    "import matplotlib.pyplot as plt\n",
    "import pandas as pd\n",
    "from skimage import io\n",
    "from scipy import ndimage\n",
    "from scipy.optimize import minimize\n",
    "\n",
    "# Utilities\n",
    "from fitting import Fit_Gaussian\n",
    "from pattern import Lattice, Squares, Binary_Squares\n",
    "from binary import Binary_Images"
   ]
  },
  {
   "cell_type": "code",
   "execution_count": 2,
   "id": "covered-architecture",
   "metadata": {},
   "outputs": [],
   "source": [
    "img = \"actin.tif\"\n",
    "mask = \"Mask.tif\"\n",
    "pattern = \"pattern.tif\"\n",
    "date = \"data/data_400_20190208\"\n",
    "cell = \"cell_1_1\"\n",
    "l = 15\n",
    "l_min = 0.7\n",
    "l_max = 1.3\n",
    "img_scale = 10"
   ]
  },
  {
   "cell_type": "code",
   "execution_count": 3,
   "id": "american-eclipse",
   "metadata": {},
   "outputs": [
    {
     "name": "stdout",
     "output_type": "stream",
     "text": [
      "Warning: failed to fit a general Gaussian on the pitch histogram\n",
      "Warning: failed to fit a general Gaussian on the pitch histogram\n",
      "The number of mini images = 144\n"
     ]
    }
   ],
   "source": [
    "# Read the image to be cut and the mask you will cut on\n",
    "image = io.imread('{}/{}/{}'.format(date, cell, img))\n",
    "Pattern = io.imread('{}/{}/{}'.format(date, cell, pattern))\n",
    "mask = io.imread('{}/{}/{}'.format(date, cell, mask))\n",
    "        \n",
    "# Create the two stacks of binary images to check the pattern\n",
    "mini_images = Binary_Squares(img = Pattern,\n",
    "                             coordinate = '{}/{}/coordinates.csv'.format(date, cell),\n",
    "                             l = l,\n",
    "                             img_scale = img_scale,\n",
    "                             l_min = l_min,\n",
    "                             l_max = l_max)\n",
    "        \n",
    "pattern_dots, pattern_shifted_dots = mini_images.masked_squares(mask)\n",
    "        \n",
    "        \n",
    "# Create the two stacks of binary images\n",
    "mini_images = Binary_Squares(img = image,\n",
    "                             coordinate = '{}/{}/coordinates.csv'.format(date, cell),\n",
    "                             l = l,\n",
    "                             img_scale = img_scale,\n",
    "                             l_min = l_min,\n",
    "                             l_max = l_max)\n",
    "        \n",
    "dots, shifted_dots = mini_images.masked_squares(mask)\n",
    "        \n",
    "print('The number of mini images = {}'.format(2*dots.shape[0]))"
   ]
  },
  {
   "cell_type": "code",
   "execution_count": 4,
   "id": "infrared-builder",
   "metadata": {},
   "outputs": [
    {
     "data": {
      "text/plain": [
       "Text(0.5, 1.0, 'off dot')"
      ]
     },
     "execution_count": 4,
     "metadata": {},
     "output_type": "execute_result"
    },
    {
     "data": {
      "image/png": "[encoded data removed]",
      "text/plain": [
       "<Figure size 864x432 with 2 Axes>"
      ]
     },
     "metadata": {
      "needs_background": "light"
     },
     "output_type": "display_data"
    }
   ],
   "source": [
    "# display the average of the pattern to verify the quality of the localization\n",
    "plt.figure(figsize=(12,6))\n",
    "        \n",
    "plt.subplot(121)\n",
    "plt.imshow(np.mean(pattern_dots, axis= 0), cmap ='gray')\n",
    "plt.axis('off')\n",
    "plt.title('on dot')\n",
    "    \n",
    "plt.subplot(122)\n",
    "plt.imshow(np.mean(pattern_shifted_dots, axis= 0), cmap ='gray')\n",
    "plt.axis('off')\n",
    "plt.title('off dot')"
   ]
  },
  {
   "cell_type": "code",
   "execution_count": 5,
   "id": "referenced-agency",
   "metadata": {},
   "outputs": [
    {
     "data": {
      "text/plain": [
       "Text(0.5, 1.0, 'off dot')"
      ]
     },
     "execution_count": 5,
     "metadata": {},
     "output_type": "execute_result"
    },
    {
     "data": {
      "image/png": "[encoded data removed]",
      "text/plain": [
       "<Figure size 864x432 with 2 Axes>"
      ]
     },
     "metadata": {
      "needs_background": "light"
     },
     "output_type": "display_data"
    }
   ],
   "source": [
    "# display the average of the pattern to verify the quality of the localization\n",
    "plt.figure(figsize=(12,6))\n",
    "        \n",
    "plt.subplot(121)\n",
    "plt.imshow(np.mean(dots, axis= 0), cmap ='gray')\n",
    "plt.axis('off')\n",
    "plt.title('on dot')\n",
    "    \n",
    "plt.subplot(122)\n",
    "plt.imshow(np.mean(shifted_dots, axis= 0), cmap ='gray')\n",
    "plt.axis('off')\n",
    "plt.title('off dot')"
   ]
  },
  {
   "cell_type": "code",
   "execution_count": 6,
   "id": "temporal-finder",
   "metadata": {},
   "outputs": [
    {
     "data": {
      "text/plain": [
       "127"
      ]
     },
     "execution_count": 6,
     "metadata": {},
     "output_type": "execute_result"
    }
   ],
   "source": [
    "dots.min()"
   ]
  },
  {
   "cell_type": "code",
   "execution_count": 7,
   "id": "correct-swedish",
   "metadata": {},
   "outputs": [],
   "source": [
    "binary_pattern = Binary_Images(pattern_dots, pattern_shifted_dots)\n",
    "X_train, X_test, y_train, y_test = binary_pattern.train_test_seed(seed = 0, norm = 'mean')"
   ]
  },
  {
   "cell_type": "code",
   "execution_count": null,
   "id": "green-guyana",
   "metadata": {},
   "outputs": [],
   "source": []
  }
 ],
 "metadata": {
  "kernelspec": {
   "display_name": "Python 3",
   "language": "python",
   "name": "python3"
  },
  "language_info": {
   "codemirror_mode": {
    "name": "ipython",
    "version": 3
   },
   "file_extension": ".py",
   "mimetype": "text/x-python",
   "name": "python",
   "nbconvert_exporter": "python",
   "pygments_lexer": "ipython3",
   "version": "3.8.6"
  }
 },
 "nbformat": 4,
 "nbformat_minor": 5
}
