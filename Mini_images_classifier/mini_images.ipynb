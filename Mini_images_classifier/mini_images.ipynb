{
 "cells": [
  {
   "cell_type": "code",
   "execution_count": 1,
   "metadata": {},
   "outputs": [],
   "source": [
    "# Libraries\n",
    "import numpy as np\n",
    "import matplotlib.pyplot as plt\n",
    "import pandas as pd\n",
    "from skimage import io\n",
    "from skimage.util import montage\n",
    "from scipy import ndimage\n",
    "from scipy.optimize import minimize\n",
    "from PIL import Image\n",
    "from skimage.external.tifffile import imsave\n",
    "\n",
    "# Utilities\n",
    "from fitting import Fit_Gaussian\n",
    "from pattern import Lattice, Squares, Binary_Squares\n",
    "from binary import Binary_Images"
   ]
  },
  {
   "cell_type": "code",
   "execution_count": 2,
   "metadata": {},
   "outputs": [],
   "source": [
    "actin = \"actin.tif\"\n",
    "ricm = \"ricm.tif\"\n",
    "mask = \"Mask.tif\"\n",
    "pattern = \"pattern.tif\"\n",
    "date = \"data/data_400_20190208\"\n",
    "cell = \"cell_5_1\"\n",
    "l = 15\n",
    "l_min = 0.7\n",
    "l_max = 1.3\n",
    "img_scale = 10"
   ]
  },
  {
   "cell_type": "code",
   "execution_count": 3,
   "metadata": {},
   "outputs": [],
   "source": [
    "# Read the image to be cut and the mask you will cut on\n",
    "Actin = io.imread('{}/{}/{}'.format(date, cell, actin))\n",
    "Ricm = io.imread('{}/{}/{}'.format(date, cell, ricm))\n",
    "Pattern = io.imread('{}/{}/{}'.format(date, cell, pattern))\n",
    "Mask = io.imread('{}/{}/{}'.format(date, cell, mask))"
   ]
  },
  {
   "cell_type": "code",
   "execution_count": 4,
   "metadata": {},
   "outputs": [
    {
     "ename": "NameError",
     "evalue": "name 'simulated_dots' is not defined",
     "output_type": "error",
     "traceback": [
      "\u001b[0;31m---------------------------------------------------------------------------\u001b[0m",
      "\u001b[0;31mNameError\u001b[0m                                 Traceback (most recent call last)",
      "\u001b[0;32m<ipython-input-4-744b4adb9090>\u001b[0m in \u001b[0;36m<module>\u001b[0;34m\u001b[0m\n\u001b[1;32m      5\u001b[0m \u001b[0;31m#    Nav[int(coord['Y'][i] * img_scale), int(coord['X'][i] * img_scale)] = 3\u001b[0m\u001b[0;34m\u001b[0m\u001b[0;34m\u001b[0m\u001b[0;34m\u001b[0m\u001b[0m\n\u001b[1;32m      6\u001b[0m \u001b[0;34m\u001b[0m\u001b[0m\n\u001b[0;32m----> 7\u001b[0;31m \u001b[0;32mfor\u001b[0m \u001b[0mi\u001b[0m \u001b[0;32min\u001b[0m \u001b[0mrange\u001b[0m\u001b[0;34m(\u001b[0m\u001b[0msimulated_dots\u001b[0m\u001b[0;34m.\u001b[0m\u001b[0mshape\u001b[0m\u001b[0;34m[\u001b[0m\u001b[0;36m0\u001b[0m\u001b[0;34m]\u001b[0m\u001b[0;34m)\u001b[0m\u001b[0;34m:\u001b[0m\u001b[0;34m\u001b[0m\u001b[0;34m\u001b[0m\u001b[0m\n\u001b[0m\u001b[1;32m      8\u001b[0m     \u001b[0mNav\u001b[0m\u001b[0;34m[\u001b[0m\u001b[0mint\u001b[0m\u001b[0;34m(\u001b[0m\u001b[0msimulated_dots\u001b[0m\u001b[0;34m[\u001b[0m\u001b[0mi\u001b[0m\u001b[0;34m]\u001b[0m\u001b[0;34m[\u001b[0m\u001b[0;36m1\u001b[0m\u001b[0;34m]\u001b[0m \u001b[0;34m*\u001b[0m \u001b[0mimg_scale\u001b[0m\u001b[0;34m)\u001b[0m\u001b[0;34m,\u001b[0m \u001b[0mint\u001b[0m\u001b[0;34m(\u001b[0m\u001b[0msimulated_dots\u001b[0m\u001b[0;34m[\u001b[0m\u001b[0mi\u001b[0m\u001b[0;34m]\u001b[0m\u001b[0;34m[\u001b[0m\u001b[0;36m0\u001b[0m\u001b[0;34m]\u001b[0m \u001b[0;34m*\u001b[0m \u001b[0mimg_scale\u001b[0m\u001b[0;34m)\u001b[0m\u001b[0;34m]\u001b[0m \u001b[0;34m=\u001b[0m \u001b[0;36m3\u001b[0m\u001b[0;34m\u001b[0m\u001b[0;34m\u001b[0m\u001b[0m\n\u001b[1;32m      9\u001b[0m \u001b[0;34m\u001b[0m\u001b[0m\n",
      "\u001b[0;31mNameError\u001b[0m: name 'simulated_dots' is not defined"
     ]
    }
   ],
   "source": [
    "Nav = io.imread('{}/{}/{}'.format(date, cell, pattern))\n",
    "\n",
    "#coord = pd.read_csv('{}/{}/coordinates.csv'.format(date, cell))\n",
    "#for i in range(coord.shape[0]):\n",
    "#    Nav[int(coord['Y'][i] * img_scale), int(coord['X'][i] * img_scale)] = 3\n",
    "\n",
    "for i in range(simulated_dots.shape[0]):\n",
    "    Nav[int(simulated_dots[i][1] * img_scale), int(simulated_dots[i][0] * img_scale)] = 3\n",
    "\n",
    "\n",
    "plt.figure(figsize=(16,16))\n",
    "plt.imshow(Nav, cmap ='gray')\n",
    "plt.axis('off')\n",
    "plt.title('on dot')\n",
    "plt.show()\n",
    "\n",
    "Image.fromarray(Nav).save(\"{}/{}/lacalized_dots.tif\".format(date, cell))"
   ]
  },
  {
   "cell_type": "code",
   "execution_count": null,
   "metadata": {},
   "outputs": [],
   "source": [
    "Nav = io.imread('{}/{}/{}'.format(date, cell, pattern))\n",
    "\n",
    "#coord = pd.read_csv('{}/{}/coordinates.csv'.format(date, cell))\n",
    "#for i in range(coord.shape[0]):\n",
    "#    Nav[int(coord['Y'][i] * img_scale), int(coord['X'][i] * img_scale)] = 3\n",
    "\n",
    "for i in range(shifted_simulated_dots.shape[0]):\n",
    "    Nav[int(shifted_simulated_dots[i][1] * img_scale), int(shifted_simulated_dots[i][0] * img_scale)] = 3\n",
    "\n",
    "\n",
    "plt.figure(figsize=(16,16))\n",
    "plt.imshow(Nav, cmap ='gray')\n",
    "plt.axis('off')\n",
    "plt.title('on dot')\n",
    "plt.show()\n",
    "\n",
    "Image.fromarray(Nav).save(\"{}/{}/lacalized_shifted_dots.tif\".format(date, cell))"
   ]
  },
  {
   "cell_type": "code",
   "execution_count": null,
   "metadata": {},
   "outputs": [],
   "source": [
    "# Localize each dot on the lattice and make shifted set of dots\n",
    "lattice = Lattice(coordinates = '{}/{}/coordinates.csv'.format(date, cell), l_min = l_min, l_max = l_max)\n",
    "simulated_dots, shifted_simulated_dots = lattice.simulate(dots = 'both')"
   ]
  },
  {
   "cell_type": "code",
   "execution_count": null,
   "metadata": {},
   "outputs": [],
   "source": [
    "simulated_dots[0][2]"
   ]
  },
  {
   "cell_type": "code",
   "execution_count": null,
   "metadata": {},
   "outputs": [],
   "source": [
    "# Create the two stacks of binary images to check the pattern\n",
    "mini_images = Binary_Squares(img = Pattern,\n",
    "                             coordinate = '{}/{}/coordinates.csv'.format(date, cell),\n",
    "                             l = l,\n",
    "                             img_scale = img_scale,\n",
    "                             l_min = l_min,\n",
    "                             l_max = l_max)\n",
    "        \n",
    "pattern_dots, pattern_shifted_dots = mini_images.masked_squares(Mask)\n",
    "        \n",
    "        \n",
    "# Create the two stacks of binary images for actin\n",
    "mini_images = Binary_Squares(img = Actin,\n",
    "                             coordinate = '{}/{}/coordinates.csv'.format(date, cell),\n",
    "                             l = l,\n",
    "                             img_scale = img_scale,\n",
    "                             l_min = l_min,\n",
    "                             l_max = l_max)\n",
    "        \n",
    "actin_dots, actin_shifted_dots = mini_images.masked_squares(Mask)\n",
    "\n",
    "\n",
    "# Create the two stacks of binary images for actin\n",
    "mini_images = Binary_Squares(img = Ricm,\n",
    "                             coordinate = '{}/{}/coordinates.csv'.format(date, cell),\n",
    "                             l = l,\n",
    "                             img_scale = img_scale,\n",
    "                             l_min = l_min,\n",
    "                             l_max = l_max)\n",
    "        \n",
    "ricm_dots, ricm_shifted_dots = mini_images.masked_squares(Mask)\n",
    " \n",
    "\n",
    "print('The number of mini images = {}'.format(2*pattern_dots.shape[0]))"
   ]
  },
  {
   "cell_type": "code",
   "execution_count": null,
   "metadata": {},
   "outputs": [],
   "source": [
    "# display the average of the pattern to verify the quality of the localization\n",
    "plt.figure(figsize=(16,6))\n",
    "        \n",
    "plt.subplot(121)\n",
    "plt.imshow(np.mean(pattern_dots, axis= 0), cmap ='gray')\n",
    "plt.axis('off')\n",
    "plt.title('on dot')\n",
    "plt.colorbar()\n",
    "\n",
    "plt.subplot(122)\n",
    "plt.imshow(np.mean(pattern_shifted_dots, axis= 0), cmap ='gray')\n",
    "plt.axis('off')\n",
    "plt.title('off dot')\n",
    "plt.colorbar();"
   ]
  },
  {
   "cell_type": "code",
   "execution_count": null,
   "metadata": {},
   "outputs": [],
   "source": [
    "# display the montage of the pattern\n",
    "plt.figure(figsize=(16,6))\n",
    "        \n",
    "plt.subplot(121)\n",
    "plt.imshow(montage(pattern_dots[:-2]), cmap ='gray')\n",
    "plt.axis('off')\n",
    "plt.title('on dot')\n",
    "plt.colorbar()\n",
    "\n",
    "plt.subplot(122)\n",
    "plt.imshow(montage(pattern_shifted_dots[:-3]), cmap ='gray')\n",
    "plt.axis('off')\n",
    "plt.title('off dot')\n",
    "plt.colorbar();"
   ]
  },
  {
   "cell_type": "code",
   "execution_count": null,
   "metadata": {},
   "outputs": [],
   "source": [
    "# display the average of the ACTIN\n",
    "plt.figure(figsize=(16,6))\n",
    "        \n",
    "plt.subplot(121)\n",
    "plt.imshow(np.mean(actin_dots, axis= 0), cmap ='gray')\n",
    "plt.axis('off')\n",
    "plt.title('on dot')\n",
    "plt.colorbar()\n",
    "   \n",
    "plt.subplot(122)\n",
    "plt.imshow(np.mean(actin_shifted_dots, axis= 0), cmap ='gray')\n",
    "plt.axis('off')\n",
    "plt.title('off dot')\n",
    "plt.colorbar();"
   ]
  },
  {
   "cell_type": "code",
   "execution_count": null,
   "metadata": {},
   "outputs": [],
   "source": [
    "# display the montage of the ACTIN\n",
    "plt.figure(figsize=(16,6))\n",
    "        \n",
    "plt.subplot(121)\n",
    "plt.imshow(montage(actin_dots[:-2]), cmap ='gray')\n",
    "plt.axis('off')\n",
    "plt.title('on dot')\n",
    "plt.colorbar()\n",
    "\n",
    "plt.subplot(122)\n",
    "plt.imshow(montage(actin_shifted_dots[:-3]), cmap ='gray')\n",
    "plt.axis('off')\n",
    "plt.title('off dot')\n",
    "plt.colorbar();"
   ]
  },
  {
   "cell_type": "code",
   "execution_count": null,
   "metadata": {},
   "outputs": [],
   "source": [
    "# display the average of the RICM\n",
    "plt.figure(figsize=(16,6))\n",
    "        \n",
    "plt.subplot(121)\n",
    "plt.imshow(np.mean(ricm_dots, axis= 0), cmap ='gray')\n",
    "plt.axis('off')\n",
    "plt.title('on dot')\n",
    "plt.colorbar()\n",
    "    \n",
    "plt.subplot(122)\n",
    "plt.imshow(np.mean(ricm_shifted_dots, axis= 0), cmap ='gray')\n",
    "plt.axis('off')\n",
    "plt.title('off dot')\n",
    "plt.colorbar();"
   ]
  },
  {
   "cell_type": "code",
   "execution_count": null,
   "metadata": {},
   "outputs": [],
   "source": [
    "# display the average of the pattern to verify the quality of the localization\n",
    "plt.figure(figsize=(16,6))\n",
    "        \n",
    "plt.subplot(121)\n",
    "plt.imshow(montage(ricm_dots[:-2]), cmap ='gray')\n",
    "plt.axis('off')\n",
    "plt.title('on dot')\n",
    "plt.colorbar()\n",
    "\n",
    "plt.subplot(122)\n",
    "plt.imshow(montage(ricm_shifted_dots[:-3]), cmap ='gray')\n",
    "plt.axis('off')\n",
    "plt.title('off dot')\n",
    "plt.colorbar();"
   ]
  },
  {
   "cell_type": "code",
   "execution_count": null,
   "metadata": {},
   "outputs": [],
   "source": [
    "# Save the pattern average\n",
    "Image.fromarray(np.mean(pattern_dots, axis= 0)).save(\"{}/{}/pattern_dots_avg.tif\".format(date, cell))\n",
    "Image.fromarray(np.mean(pattern_shifted_dots, axis= 0)).save(\"{}/{}/pattern_shifted_dots_avg.tif\".format(date, cell))\n",
    "\n",
    "# Save the pattern montage\n",
    "Image.fromarray(montage(pattern_dots[:-2])).save(\"{}/{}/pattern_dots_montage.tif\".format(date, cell))\n",
    "Image.fromarray(montage(pattern_shifted_dots[:-3])).save(\"{}/{}/pattern_shifted_dots_montage.tif\".format(date, cell))\n",
    "\n",
    "# Save the pattern stack\n",
    "imsave(\"{}/{}/pattern_dots.tif\".format(date, cell), pattern_dots)\n",
    "imsave(\"{}/{}/pattern_shifted_dots.tif\".format(date, cell), pattern_shifted_dots)\n",
    "\n",
    "# Save the actin average\n",
    "Image.fromarray(np.mean(actin_dots, axis= 0)).save(\"{}/{}/actin_dots_avg.tif\".format(date, cell))\n",
    "Image.fromarray(np.mean(actin_shifted_dots, axis= 0)).save(\"{}/{}/actin_shifted_dots_avg.tif\".format(date, cell))\n",
    "\n",
    "# Save the actin montage\n",
    "Image.fromarray(montage(actin_dots[:-2])).save(\"{}/{}/actin_dots_montage.tif\".format(date, cell))\n",
    "Image.fromarray(montage(actin_shifted_dots[:-3])).save(\"{}/{}/actin_shifted_dots_montage.tif\".format(date, cell))\n",
    "\n",
    "# Save the actin stack\n",
    "imsave(\"{}/{}/actin_dots.tif\".format(date, cell), actin_dots)\n",
    "imsave(\"{}/{}/actin_shifted_dots.tif\".format(date, cell), actin_shifted_dots)\n",
    "\n",
    "# Save the ricm average\n",
    "Image.fromarray(np.mean(ricm_dots, axis= 0)).save(\"{}/{}/ricm_dots_avg.tif\".format(date, cell))\n",
    "Image.fromarray(np.mean(ricm_shifted_dots, axis= 0)).save(\"{}/{}/ricm_shifted_dots_avg.tif\".format(date, cell))\n",
    "\n",
    "# Save the actin montage\n",
    "Image.fromarray(montage(ricm_dots[:-2])).save(\"{}/{}/ricm_dots_montage.tif\".format(date, cell))\n",
    "Image.fromarray(montage(ricm_shifted_dots[:-3])).save(\"{}/{}/ricm_shifted_dots_montage.tif\".format(date, cell))\n",
    "\n",
    "# Save the actin stack\n",
    "imsave(\"{}/{}/ricm_dots.tif\".format(date, cell), ricm_dots)\n",
    "imsave(\"{}/{}/ricm_shifted_dots.tif\".format(date, cell), ricm_shifted_dots)"
   ]
  }
 ],
 "metadata": {
  "kernelspec": {
   "display_name": "Python 3",
   "language": "python",
   "name": "python3"
  },
  "language_info": {
   "codemirror_mode": {
    "name": "ipython",
    "version": 3
   },
   "file_extension": ".py",
   "mimetype": "text/x-python",
   "name": "python",
   "nbconvert_exporter": "python",
   "pygments_lexer": "ipython3",
   "version": "3.8.3"
  }
 },
 "nbformat": 4,
 "nbformat_minor": 5
}
